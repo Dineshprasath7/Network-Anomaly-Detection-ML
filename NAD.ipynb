{
  "nbformat": 4,
  "nbformat_minor": 0,
  "metadata": {
    "colab": {
      "provenance": []
    },
    "kernelspec": {
      "name": "python3",
      "display_name": "Python 3"
    },
    "language_info": {
      "name": "python"
    }
  },
  "cells": [
    {
      "cell_type": "code",
      "execution_count": 15,
      "metadata": {
        "id": "5yPbAFpczih3"
      },
      "outputs": [],
      "source": [
        "# Data Manipulation and Processing\n",
        "import pandas as pd\n",
        "import numpy as np\n",
        "from sklearn.preprocessing import LabelEncoder, StandardScaler\n",
        "from sklearn.model_selection import train_test_split\n",
        "\n",
        "# Models\n",
        "from sklearn.naive_bayes import GaussianNB\n",
        "from sklearn.linear_model import LogisticRegression\n",
        "from sklearn.neighbors import KNeighborsClassifier\n",
        "from sklearn.tree import DecisionTreeClassifier\n",
        "from sklearn.ensemble import RandomForestClassifier, VotingClassifier\n",
        "from sklearn.svm import SVC\n",
        "import tensorflow as tf\n",
        "from tensorflow.keras import Sequential\n",
        "from tensorflow.keras.layers import Dense\n",
        "from sklearn.tree import DecisionTreeClassifier\n",
        "# Evaluation\n",
        "from sklearn.metrics import accuracy_score, classification_report"
      ]
    },
    {
      "cell_type": "code",
      "source": [
        "# Load Data\n",
        "train_df = pd.read_csv('KDDTrain+.txt', header=None)\n",
        "test_df = pd.read_csv('KDDTest+.txt', header=None)\n",
        "\n",
        "\n",
        "column_names = [\n",
        "    \"duration\", \"protocol_type\", \"service\", \"flag\", \"src_bytes\", \"dst_bytes\",\n",
        "    \"land\", \"wrong_fragment\", \"urgent\", \"hot\", \"num_failed_logins\", \"logged_in\",\n",
        "    \"num_compromised\", \"root_shell\", \"su_attempted\", \"num_root\", \"num_file_creations\",\n",
        "    \"num_shells\", \"num_access_files\", \"num_outbound_cmds\", \"is_host_login\",\n",
        "    \"is_guest_login\", \"count\", \"srv_count\", \"serror_rate\", \"srv_serror_rate\",\n",
        "    \"rerror_rate\", \"srv_rerror_rate\", \"same_srv_rate\", \"diff_srv_rate\",\n",
        "    \"srv_diff_host_rate\", \"dst_host_count\", \"dst_host_srv_count\",\n",
        "    \"dst_host_same_srv_rate\", \"dst_host_diff_srv_rate\", \"dst_host_same_src_port_rate\",\n",
        "    \"dst_host_srv_diff_host_rate\", \"dst_host_serror_rate\", \"dst_host_srv_serror_rate\",\n",
        "    \"dst_host_rerror_rate\", \"dst_host_srv_rerror_rate\", \"label\", \"difficulty_level\"\n",
        "]\n",
        "train_df.columns = column_names\n",
        "test_df.columns = column_names\n",
        "\n",
        "\n",
        "train_df = train_df.drop('difficulty_level', axis=1)\n",
        "test_df = test_df.drop('difficulty_level', axis=1)\n",
        "\n",
        "\n",
        "categorical_cols = ['protocol_type', 'service', 'flag']\n",
        "label_encoder = LabelEncoder()\n",
        "\n",
        "for col in categorical_cols:\n",
        "    train_df[col] = label_encoder.fit_transform(train_df[col])\n",
        "    test_df[col] = label_encoder.transform(test_df[col])\n",
        "\n",
        "# Encode Labels (Normal = 0, Anomaly = 1)\n",
        "train_df['label'] = train_df['label'].apply(lambda x: 0 if x == 'normal' else 1)\n",
        "test_df['label'] = test_df['label'].apply(lambda x: 0 if x == 'normal' else 1)\n",
        "\n",
        "\n",
        "X_train = train_df.drop('label', axis=1)\n",
        "y_train = train_df['label']\n",
        "X_test = test_df.drop('label', axis=1)\n",
        "y_test = test_df['label']\n",
        "\n",
        "\n",
        "scaler = StandardScaler()\n",
        "X_train = scaler.fit_transform(X_train)\n",
        "X_test = scaler.transform(X_test)\n",
        "\n",
        "print(\"Dataset Loaded and Preprocessed.\")\n"
      ],
      "metadata": {
        "colab": {
          "base_uri": "https://localhost:8080/"
        },
        "id": "aFXzgMwFzt0j",
        "outputId": "2c71d9b2-6733-4d94-88a6-d75f7cafcf67"
      },
      "execution_count": 10,
      "outputs": [
        {
          "output_type": "stream",
          "name": "stdout",
          "text": [
            "Dataset Loaded and Preprocessed.\n"
          ]
        }
      ]
    },
    {
      "cell_type": "markdown",
      "source": [
        "Naive Bayes Model"
      ],
      "metadata": {
        "id": "qaRtb8OW_-B_"
      }
    },
    {
      "cell_type": "code",
      "source": [
        "nb_model = GaussianNB()\n",
        "nb_model.fit(X_train, y_train)\n",
        "y_pred_nb = nb_model.predict(X_test)\n",
        "\n",
        "print(\"Naive Bayes Accuracy:\", accuracy_score(y_test, y_pred_nb) * 100)\n",
        "print(classification_report(y_test, y_pred_nb))"
      ],
      "metadata": {
        "colab": {
          "base_uri": "https://localhost:8080/"
        },
        "id": "SclO3UjMz0Po",
        "outputId": "fff3a594-6f67-4d85-e5f3-a4dfcb6f566b"
      },
      "execution_count": 11,
      "outputs": [
        {
          "output_type": "stream",
          "name": "stdout",
          "text": [
            "Naive Bayes Accuracy: 77.14247693399574\n",
            "              precision    recall  f1-score   support\n",
            "\n",
            "           0       0.67      0.91      0.78      9711\n",
            "           1       0.91      0.66      0.77     12833\n",
            "\n",
            "    accuracy                           0.77     22544\n",
            "   macro avg       0.79      0.79      0.77     22544\n",
            "weighted avg       0.81      0.77      0.77     22544\n",
            "\n"
          ]
        }
      ]
    },
    {
      "cell_type": "markdown",
      "source": [
        "Logistic Regression"
      ],
      "metadata": {
        "id": "Ot1h4IA_Aaay"
      }
    },
    {
      "source": [
        "lr_model = LogisticRegression(max_iter=1000)\n",
        "lr_model.fit(X_train, y_train)\n",
        "y_pred_lr = lr_model.predict(X_test)\n",
        "\n",
        "print(\"Logistic Regression Accuracy:\", accuracy_score(y_test, y_pred_lr) * 100)\n",
        "print(classification_report(y_test, y_pred_lr))"
      ],
      "cell_type": "code",
      "metadata": {
        "colab": {
          "base_uri": "https://localhost:8080/"
        },
        "id": "Wrh72bLPz8G8",
        "outputId": "236acf2e-f368-40e0-fd75-78ad3a7931f9"
      },
      "execution_count": 12,
      "outputs": [
        {
          "output_type": "stream",
          "name": "stdout",
          "text": [
            "Logistic Regression Accuracy: 75.3903477643719\n",
            "              precision    recall  f1-score   support\n",
            "\n",
            "           0       0.65      0.93      0.77      9711\n",
            "           1       0.93      0.62      0.74     12833\n",
            "\n",
            "    accuracy                           0.75     22544\n",
            "   macro avg       0.79      0.78      0.75     22544\n",
            "weighted avg       0.81      0.75      0.75     22544\n",
            "\n"
          ]
        }
      ]
    },
    {
      "cell_type": "markdown",
      "source": [
        "K Nearest Neighbours"
      ],
      "metadata": {
        "id": "0klqg_3EBeyZ"
      }
    },
    {
      "cell_type": "code",
      "source": [
        "knn_model = KNeighborsClassifier(n_neighbors=5)\n",
        "knn_model.fit(X_train, y_train)\n",
        "y_pred_knn = knn_model.predict(X_test)\n",
        "\n",
        "print(\"KNN Accuracy:\", accuracy_score(y_test, y_pred_knn) * 100)\n",
        "print(classification_report(y_test, y_pred_knn))"
      ],
      "metadata": {
        "colab": {
          "base_uri": "https://localhost:8080/"
        },
        "id": "egPkL8tpz_GO",
        "outputId": "c3ffc40b-8676-498a-a33d-1e5d3ece02e9"
      },
      "execution_count": 13,
      "outputs": [
        {
          "output_type": "stream",
          "name": "stdout",
          "text": [
            "KNN Accuracy: 76.75656493967354\n",
            "              precision    recall  f1-score   support\n",
            "\n",
            "           0       0.65      0.98      0.78      9711\n",
            "           1       0.97      0.61      0.75     12833\n",
            "\n",
            "    accuracy                           0.77     22544\n",
            "   macro avg       0.81      0.79      0.77     22544\n",
            "weighted avg       0.83      0.77      0.76     22544\n",
            "\n"
          ]
        }
      ]
    },
    {
      "cell_type": "markdown",
      "source": [
        "Decision Tree"
      ],
      "metadata": {
        "id": "oRYdPqBYBnCm"
      }
    },
    {
      "cell_type": "code",
      "source": [
        "dt_model = DecisionTreeClassifier(random_state=42)\n",
        "dt_model.fit(X_train, y_train)\n",
        "y_pred_dt = dt_model.predict(X_test)\n",
        "\n",
        "print(\"Decision Tree Accuracy:\", accuracy_score(y_test, y_pred_dt) * 100)\n",
        "print(classification_report(y_test, y_pred_dt))"
      ],
      "metadata": {
        "colab": {
          "base_uri": "https://localhost:8080/"
        },
        "id": "6OPsnau6BAtY",
        "outputId": "d63eb09a-b822-4576-f65c-2539df336acd"
      },
      "execution_count": 16,
      "outputs": [
        {
          "output_type": "stream",
          "name": "stdout",
          "text": [
            "Decision Tree Accuracy: 78.85468417317246\n",
            "              precision    recall  f1-score   support\n",
            "\n",
            "           0       0.68      0.97      0.80      9711\n",
            "           1       0.97      0.65      0.78     12833\n",
            "\n",
            "    accuracy                           0.79     22544\n",
            "   macro avg       0.82      0.81      0.79     22544\n",
            "weighted avg       0.84      0.79      0.79     22544\n",
            "\n"
          ]
        }
      ]
    },
    {
      "cell_type": "markdown",
      "source": [
        "Random Forest"
      ],
      "metadata": {
        "id": "YY0yv2_1BpAx"
      }
    },
    {
      "cell_type": "code",
      "source": [
        "rf_model = RandomForestClassifier(n_estimators=100, random_state=42)\n",
        "rf_model.fit(X_train, y_train)\n",
        "y_pred_rf = rf_model.predict(X_test)\n",
        "\n",
        "print(\"Random Forest Accuracy:\", accuracy_score(y_test, y_pred_rf) * 100)\n",
        "print(classification_report(y_test, y_pred_rf))"
      ],
      "metadata": {
        "colab": {
          "base_uri": "https://localhost:8080/"
        },
        "id": "l7rATLhpBVzO",
        "outputId": "b2b7a7c0-2621-47f1-edc0-d1767014a8de"
      },
      "execution_count": 17,
      "outputs": [
        {
          "output_type": "stream",
          "name": "stdout",
          "text": [
            "Random Forest Accuracy: 77.06706884315118\n",
            "              precision    recall  f1-score   support\n",
            "\n",
            "           0       0.66      0.97      0.78      9711\n",
            "           1       0.97      0.62      0.75     12833\n",
            "\n",
            "    accuracy                           0.77     22544\n",
            "   macro avg       0.81      0.80      0.77     22544\n",
            "weighted avg       0.83      0.77      0.77     22544\n",
            "\n"
          ]
        }
      ]
    },
    {
      "cell_type": "markdown",
      "source": [
        "Support Vector Machine"
      ],
      "metadata": {
        "id": "Cm4X4tJTB1kd"
      }
    },
    {
      "cell_type": "code",
      "source": [
        "svm_model = SVC(kernel='rbf', C=1.0, gamma='scale')\n",
        "svm_model.fit(X_train, y_train)\n",
        "y_pred_svm = svm_model.predict(X_test)\n",
        "\n",
        "print(\"SVM Accuracy:\", accuracy_score(y_test, y_pred_svm) * 100)\n",
        "print(classification_report(y_test, y_pred_svm))"
      ],
      "metadata": {
        "colab": {
          "base_uri": "https://localhost:8080/"
        },
        "id": "8dRXUY7-Bbfp",
        "outputId": "d7ba38c3-04d6-4090-839e-03f095c7fd24"
      },
      "execution_count": 18,
      "outputs": [
        {
          "output_type": "stream",
          "name": "stdout",
          "text": [
            "SVM Accuracy: 78.19375443577005\n",
            "              precision    recall  f1-score   support\n",
            "\n",
            "           0       0.67      0.98      0.79      9711\n",
            "           1       0.98      0.63      0.77     12833\n",
            "\n",
            "    accuracy                           0.78     22544\n",
            "   macro avg       0.82      0.81      0.78     22544\n",
            "weighted avg       0.84      0.78      0.78     22544\n",
            "\n"
          ]
        }
      ]
    },
    {
      "cell_type": "markdown",
      "source": [
        "Artificial Neural Networks"
      ],
      "metadata": {
        "id": "TR2yfxflCG2b"
      }
    },
    {
      "cell_type": "code",
      "source": [
        "ann_model = Sequential([\n",
        "    Dense(64, activation='relu', input_shape=(X_train.shape[1],)),\n",
        "    Dense(32, activation='relu'),\n",
        "    Dense(1, activation='sigmoid')\n",
        "])\n",
        "\n",
        "ann_model.compile(optimizer='adam', loss='binary_crossentropy', metrics=['accuracy'])\n",
        "ann_model.fit(X_train, y_train, epochs=5, batch_size=64, validation_split=0.2)\n",
        "loss, accuracy = ann_model.evaluate(X_test, y_test)\n",
        "print(\"ANN Accuracy:\", accuracy * 100)\n"
      ],
      "metadata": {
        "colab": {
          "base_uri": "https://localhost:8080/"
        },
        "id": "BbJQLbfsBsYi",
        "outputId": "0f19547e-570d-46ad-e403-1e4c02db151b"
      },
      "execution_count": 19,
      "outputs": [
        {
          "output_type": "stream",
          "name": "stderr",
          "text": [
            "/usr/local/lib/python3.11/dist-packages/keras/src/layers/core/dense.py:87: UserWarning: Do not pass an `input_shape`/`input_dim` argument to a layer. When using Sequential models, prefer using an `Input(shape)` object as the first layer in the model instead.\n",
            "  super().__init__(activity_regularizer=activity_regularizer, **kwargs)\n"
          ]
        },
        {
          "output_type": "stream",
          "name": "stdout",
          "text": [
            "Epoch 1/5\n",
            "\u001b[1m1575/1575\u001b[0m \u001b[32m━━━━━━━━━━━━━━━━━━━━\u001b[0m\u001b[37m\u001b[0m \u001b[1m6s\u001b[0m 2ms/step - accuracy: 0.9564 - loss: 0.1242 - val_accuracy: 0.9917 - val_loss: 0.0278\n",
            "Epoch 2/5\n",
            "\u001b[1m1575/1575\u001b[0m \u001b[32m━━━━━━━━━━━━━━━━━━━━\u001b[0m\u001b[37m\u001b[0m \u001b[1m6s\u001b[0m 4ms/step - accuracy: 0.9909 - loss: 0.0261 - val_accuracy: 0.9927 - val_loss: 0.0224\n",
            "Epoch 3/5\n",
            "\u001b[1m1575/1575\u001b[0m \u001b[32m━━━━━━━━━━━━━━━━━━━━\u001b[0m\u001b[37m\u001b[0m \u001b[1m11s\u001b[0m 4ms/step - accuracy: 0.9923 - loss: 0.0228 - val_accuracy: 0.9932 - val_loss: 0.0223\n",
            "Epoch 4/5\n",
            "\u001b[1m1575/1575\u001b[0m \u001b[32m━━━━━━━━━━━━━━━━━━━━\u001b[0m\u001b[37m\u001b[0m \u001b[1m11s\u001b[0m 5ms/step - accuracy: 0.9933 - loss: 0.0197 - val_accuracy: 0.9925 - val_loss: 0.0208\n",
            "Epoch 5/5\n",
            "\u001b[1m1575/1575\u001b[0m \u001b[32m━━━━━━━━━━━━━━━━━━━━\u001b[0m\u001b[37m\u001b[0m \u001b[1m6s\u001b[0m 4ms/step - accuracy: 0.9934 - loss: 0.0188 - val_accuracy: 0.9927 - val_loss: 0.0202\n",
            "\u001b[1m705/705\u001b[0m \u001b[32m━━━━━━━━━━━━━━━━━━━━\u001b[0m\u001b[37m\u001b[0m \u001b[1m2s\u001b[0m 2ms/step - accuracy: 0.7845 - loss: 0.8953\n",
            "ANN Accuracy: 77.95866131782532\n"
          ]
        }
      ]
    },
    {
      "cell_type": "code",
      "source": [
        "ensemble_model = VotingClassifier(\n",
        "    estimators=[\n",
        "        ('nb', nb_model),\n",
        "        ('lr', lr_model),\n",
        "        ('knn', knn_model),\n",
        "        ('dt', dt_model),\n",
        "        ('rf', rf_model),\n",
        "        ('svm', svm_model)\n",
        "    ],\n",
        "    voting='hard'\n",
        ")\n",
        "\n",
        "ensemble_model.fit(X_train, y_train)\n",
        "y_pred_ensemble = ensemble_model.predict(X_test)\n",
        "\n",
        "print(\"Ensemble Model Accuracy:\", accuracy_score(y_test, y_pred_ensemble) * 100)\n",
        "print(classification_report(y_test, y_pred_ensemble))\n"
      ],
      "metadata": {
        "colab": {
          "base_uri": "https://localhost:8080/"
        },
        "id": "76_nzBCcCK2d",
        "outputId": "c02b4c98-8d4a-474c-d924-e063e9963032"
      },
      "execution_count": 20,
      "outputs": [
        {
          "output_type": "stream",
          "name": "stdout",
          "text": [
            "Ensemble Model Accuracy: 76.25532292405963\n",
            "              precision    recall  f1-score   support\n",
            "\n",
            "           0       0.65      0.97      0.78      9711\n",
            "           1       0.97      0.60      0.74     12833\n",
            "\n",
            "    accuracy                           0.76     22544\n",
            "   macro avg       0.81      0.79      0.76     22544\n",
            "weighted avg       0.83      0.76      0.76     22544\n",
            "\n"
          ]
        }
      ]
    }
  ]
}